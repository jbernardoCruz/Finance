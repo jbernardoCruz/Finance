{
 "cells": [
  {
   "cell_type": "code",
   "execution_count": 1,
   "metadata": {},
   "outputs": [],
   "source": [
    "from uAI_lib import getData, loadDataFromCSV, timeStampToDate, saveCSV\n",
    "from uAI_plot import plot_candleStick\n",
    "from uAI_Finance import Finance\n",
    "from uAI_typedef import *\n",
    "\n",
    "import plotly\n",
    "import plotly.plotly as py\n",
    "import plotly.graph_objs as go\n",
    "\n",
    "plotly.tools.set_credentials_file(username='jbernardoCruz', api_key='wLC85rHSk0rclw6QbkAn')"
   ]
  },
  {
   "cell_type": "code",
   "execution_count": 61,
   "metadata": {},
   "outputs": [
    {
     "name": "stdout",
     "output_type": "stream",
     "text": [
      "Requesting Data: https://api.bitfinex.com/v2/candles/trade:15m:tETHUSD/hist?&limit=1000\n",
      "\n",
      "Data successfully acquired\n",
      "\n",
      "Saving .csv file...\n",
      "\n",
      "File saved: data_test.csv\n",
      "\n"
     ]
    }
   ],
   "source": [
    "'''GET DATA'''\n",
    "\n",
    "timeFrame = 15\n",
    "coin = 'ETHUSD'\n",
    "fileName = 'data_test.csv'\n",
    "\n",
    "data = getData(str(timeFrame) + 'm', coin, 1000)\n",
    "saveCSV(data, fileName)"
   ]
  },
  {
   "cell_type": "code",
   "execution_count": 62,
   "metadata": {},
   "outputs": [
    {
     "name": "stdout",
     "output_type": "stream",
     "text": [
      "\n",
      "Finance data set.\n"
     ]
    }
   ],
   "source": [
    "'''LOAD DATA'''\n",
    "\n",
    "csvData = loadDataFromCSV(fileName, [TIME, OPEN, HIGH, LOW, CLOSE, VOL])\n",
    "finance = Finance(csvData)\n",
    "data = finance.data"
   ]
  },
  {
   "cell_type": "code",
   "execution_count": 63,
   "metadata": {},
   "outputs": [
    {
     "name": "stdout",
     "output_type": "stream",
     "text": [
      "This is the format of your plot grid:\n",
      "[ (1,1) x1,y1 ]\n",
      "[ (2,1) x1,y2 ]\n",
      "[ (3,1) x1,y3 ]\n",
      "\n",
      "High five! You successfully sent some data to your account on plotly. View your plot in your browser at https://plot.ly/~jbernardoCruz/0 or inside your plot.ly account where it is named 'simple_candlestick'\n"
     ]
    },
    {
     "data": {
      "text/html": [
       "<iframe id=\"igraph\" scrolling=\"no\" style=\"border:none;\" seamless=\"seamless\" src=\"https://plot.ly/~jbernardoCruz/0.embed\" height=\"900px\" width=\"1000px\"></iframe>"
      ],
      "text/plain": [
       "<plotly.tools.PlotlyDisplay object>"
      ]
     },
     "execution_count": 63,
     "metadata": {},
     "output_type": "execute_result"
    }
   ],
   "source": [
    "'''PLOT DATA'''\n",
    "\n",
    "#Price\n",
    "price_graph = go.Candlestick(x=data[TIME], open=data[OPEN], high=data[HIGH], low=data[LOW],close=data[CLOSE], name=str(coin))\n",
    "\n",
    "rsiUp = []\n",
    "rsiLow = []\n",
    "for i in range(len(finance.rsi)):\n",
    "    rsiUp.append(70)\n",
    "    rsiLow.append(30)\n",
    "\n",
    "    \n",
    "colors = ['rgb(67,67,67)', 'rgb(49,130,189)']\n",
    "#RSI\n",
    "rsi_graph = go.Scatter(x = data[TIME], y = finance.RSI(),  name='RSI',  mode='lines', line=dict(color=colors[0]))\n",
    "rsiUp_graph = go.Scatter(x = data[TIME], y = rsiUp, name='', mode='lines', line=dict(color=colors[1]))\n",
    "rsiLow_graph = go.Scatter(x = data[TIME], y = rsiLow, name='', mode='lines', line=dict(color=colors[1]))\n",
    "\n",
    "#Stochastic RSI\n",
    "s_rsi = finance.S_RSI()\n",
    "#S_RSI \n",
    "s_rsi_k_graph = go.Scatter(x = data[TIME], y = s_rsi[S_RSI_K],  name='Stochastic RSI')\n",
    "s_rsi_d_graph = go.Scatter(x = data[TIME], y = s_rsi[S_RSI_D],  name='Stochastic RSI')\n",
    "\n",
    "fig = plotly.tools.make_subplots(rows=3, cols=1, shared_xaxes=True)\n",
    "fig.append_trace(price_graph, 1, 1)\n",
    "fig.append_trace(rsi_graph, 2, 1)\n",
    "fig.append_trace(rsiUp_graph, 2, 1)\n",
    "fig.append_trace(rsiLow_graph, 2, 1)\n",
    "fig.append_trace(s_rsi_k_graph, 3, 1)\n",
    "fig.append_trace(s_rsi_d_graph, 3, 1)\n",
    "\n",
    "layout = go.Layout(xaxis = dict(rangeslider = dict(visible = False)),\n",
    "                   yaxis1=dict(domain=[0.5, 1]), \n",
    "                   yaxis2=dict(domain=[0.2, 0.5]),      \n",
    "                   yaxis3=dict(domain=[0, 0.2]),\n",
    "                   autosize=False, width=1000,height=900, title='uAI')\n",
    "    \n",
    "fig['layout'].update(layout)\n",
    "              \n",
    "py.iplot(fig, filename='simple_candlestick')\n"
   ]
  }
 ],
 "metadata": {
  "kernelspec": {
   "display_name": "Python 3",
   "language": "python",
   "name": "python3"
  },
  "language_info": {
   "codemirror_mode": {
    "name": "ipython",
    "version": 3
   },
   "file_extension": ".py",
   "mimetype": "text/x-python",
   "name": "python",
   "nbconvert_exporter": "python",
   "pygments_lexer": "ipython3",
   "version": "3.6.8"
  }
 },
 "nbformat": 4,
 "nbformat_minor": 2
}
